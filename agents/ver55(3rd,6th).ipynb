{
 "cells": [
  {
   "cell_type": "code",
   "execution_count": 1,
   "metadata": {
    "_kg_hide-output": false,
    "execution": {
     "iopub.execute_input": "2021-01-22T16:05:47.819024Z",
     "iopub.status.busy": "2021-01-22T16:05:47.818255Z",
     "iopub.status.idle": "2021-01-22T16:05:47.825686Z",
     "shell.execute_reply": "2021-01-22T16:05:47.826235Z"
    },
    "papermill": {
     "duration": 0.019253,
     "end_time": "2021-01-22T16:05:47.826402",
     "exception": false,
     "start_time": "2021-01-22T16:05:47.807149",
     "status": "completed"
    },
    "tags": []
   },
   "outputs": [
    {
     "data": {
      "text/plain": [
       "'\\n!pip install --upgrade pip\\n!pip install kaggle-environments --upgrade\\n'"
      ]
     },
     "execution_count": 1,
     "metadata": {},
     "output_type": "execute_result"
    }
   ],
   "source": [
    "'''\n",
    "!pip install --upgrade pip\n",
    "!pip install kaggle-environments --upgrade\n",
    "'''"
   ]
  },
  {
   "cell_type": "code",
   "execution_count": 2,
   "metadata": {
    "execution": {
     "iopub.execute_input": "2021-01-22T16:05:47.846564Z",
     "iopub.status.busy": "2021-01-22T16:05:47.845649Z",
     "iopub.status.idle": "2021-01-22T16:05:47.848649Z",
     "shell.execute_reply": "2021-01-22T16:05:47.848125Z"
    },
    "papermill": {
     "duration": 0.014824,
     "end_time": "2021-01-22T16:05:47.848781",
     "exception": false,
     "start_time": "2021-01-22T16:05:47.833957",
     "status": "completed"
    },
    "tags": []
   },
   "outputs": [],
   "source": [
    "# observation = {\n",
    "#     'remainingOverageTime': 60,\n",
    "#     'agentIndex': 1, # 0 or 1\n",
    "#     'reward': 92, # total reward\n",
    "#     'step': 184, # [0-1999]\n",
    "#     'lastActions': [84, 94]\n",
    "# }\n",
    "\n",
    "# configuration:\n",
    "# {'episodeSteps': 2000,\n",
    "#  'actTimeout': 0.25,\n",
    "#  'runTimeout': 1200,\n",
    "#  'banditCount': 100,\n",
    "#  'decayRate': 0.97,\n",
    "#  'sampleResolution': 100}"
   ]
  },
  {
   "cell_type": "code",
   "execution_count": 3,
   "metadata": {
    "_cell_guid": "79c7e3d0-c299-4dcb-8224-4455121ee9b0",
    "_uuid": "d629ff2d2480ee46fbb7e2d37f6b5fab8052498a",
    "execution": {
     "iopub.execute_input": "2021-01-22T16:05:47.868193Z",
     "iopub.status.busy": "2021-01-22T16:05:47.867471Z",
     "iopub.status.idle": "2021-01-22T16:05:47.875919Z",
     "shell.execute_reply": "2021-01-22T16:05:47.875331Z"
    },
    "papermill": {
     "duration": 0.020078,
     "end_time": "2021-01-22T16:05:47.876038",
     "exception": false,
     "start_time": "2021-01-22T16:05:47.855960",
     "status": "completed"
    },
    "tags": []
   },
   "outputs": [
    {
     "name": "stdout",
     "output_type": "stream",
     "text": [
      "Writing submission.py\n"
     ]
    }
   ],
   "source": [
    "%%writefile submission.py\n",
    "\n",
    "import numpy as np\n",
    "import pandas as pd\n",
    "import random, os, datetime, math\n",
    "from collections import defaultdict\n",
    "\n",
    "total_reward = 0\n",
    "bandit_dict = {}\n",
    "\n",
    "def set_seed(my_seed=42):\n",
    "    os.environ['PYTHONHASHSEED'] = str(my_seed)\n",
    "    random.seed(my_seed)\n",
    "    np.random.seed(my_seed)\n",
    "\n",
    "#- bandit_dict[bnd]['loss']\n",
    "def get_next_bandit():\n",
    "    best_bandit = 0\n",
    "    best_bandit_expected = 0\n",
    "    for bnd in bandit_dict:\n",
    "        expect = (bandit_dict[bnd]['win'] - bandit_dict[bnd]['loss'] + bandit_dict[bnd]['opp'] - (bandit_dict[bnd]['opp']>0)*1.5) \\\n",
    "                 / (0.7*bandit_dict[bnd]['win'] + bandit_dict[bnd]['loss'] + bandit_dict[bnd]['opp']) \\\n",
    "                * math.pow(0.965, bandit_dict[bnd]['win'] + bandit_dict[bnd]['loss'] + bandit_dict[bnd]['opp'])\n",
    "        if expect > best_bandit_expected:\n",
    "            best_bandit_expected = expect\n",
    "            best_bandit = bnd\n",
    "    return best_bandit\n",
    "\n",
    "my_action_list = []\n",
    "op_action_list = []\n",
    "\n",
    "op_continue_cnt_dict = defaultdict(int)\n",
    "\n",
    "def multi_armed_probabilities(observation, configuration):\n",
    "    global total_reward, bandit_dict\n",
    "\n",
    "    my_pull = random.randrange(configuration['banditCount'])\n",
    "    if 0 == observation['step']:\n",
    "        set_seed()\n",
    "        total_reward = 0\n",
    "        bandit_dict = {}\n",
    "        for i in range(configuration['banditCount']):\n",
    "            bandit_dict[i] = {'win': 1, 'loss': 0, 'opp': 0, 'my_continue': 0, 'op_continue': 0}\n",
    "    else:\n",
    "        last_reward = observation['reward'] - total_reward\n",
    "        total_reward = observation['reward']\n",
    "        \n",
    "        my_idx = observation['agentIndex']\n",
    "        my_last_action = observation['lastActions'][my_idx]\n",
    "        op_last_action = observation['lastActions'][1-my_idx]\n",
    "        \n",
    "        my_action_list.append(my_last_action)\n",
    "        op_action_list.append(op_last_action)\n",
    "        \n",
    "        if 0 < last_reward:\n",
    "            bandit_dict[my_last_action]['win'] = bandit_dict[my_last_action]['win'] +1\n",
    "        else:\n",
    "            bandit_dict[my_last_action]['loss'] = bandit_dict[my_last_action]['loss'] +1\n",
    "        bandit_dict[op_last_action]['opp'] = bandit_dict[op_last_action]['opp'] +1\n",
    "        \n",
    "        if observation['step'] >= 3:\n",
    "            if my_action_list[-1] == my_action_list[-2]:\n",
    "                bandit_dict[my_last_action]['my_continue'] += 1\n",
    "            else:\n",
    "                bandit_dict[my_last_action]['my_continue'] = 0\n",
    "            if op_action_list[-1] == op_action_list[-2]:\n",
    "                bandit_dict[op_last_action]['op_continue'] += 1\n",
    "            else:\n",
    "                bandit_dict[op_last_action]['op_continue'] = 0\n",
    "        \n",
    "        if last_reward > 0:\n",
    "            my_pull = my_last_action\n",
    "        else:\n",
    "            if observation['step'] >= 4:\n",
    "                if (my_action_list[-1] == my_action_list[-2]) and (my_action_list[-1] == my_action_list[-3]):\n",
    "                    if random.random() < 0.5:#前の3つが同じだったら、n%の確率で同じ自動販売機に固執し続ける。\n",
    "                        my_pull = my_action_list[-1]\n",
    "                    else:\n",
    "                        my_pull = get_next_bandit()\n",
    "                else:\n",
    "                    my_pull = get_next_bandit()\n",
    "            else:\n",
    "                my_pull = get_next_bandit()\n",
    "    \n",
    "    return my_pull"
   ]
  },
  {
   "cell_type": "code",
   "execution_count": 4,
   "metadata": {
    "_kg_hide-input": false,
    "_kg_hide-output": false,
    "execution": {
     "iopub.execute_input": "2021-01-22T16:05:47.894374Z",
     "iopub.status.busy": "2021-01-22T16:05:47.893697Z",
     "iopub.status.idle": "2021-01-22T16:05:47.902008Z",
     "shell.execute_reply": "2021-01-22T16:05:47.901418Z"
    },
    "papermill": {
     "duration": 0.018606,
     "end_time": "2021-01-22T16:05:47.902157",
     "exception": false,
     "start_time": "2021-01-22T16:05:47.883551",
     "status": "completed"
    },
    "tags": []
   },
   "outputs": [
    {
     "name": "stdout",
     "output_type": "stream",
     "text": [
      "Writing opponent_agent.py\n"
     ]
    }
   ],
   "source": [
    "%%writefile opponent_agent.py\n",
    "\n",
    "import numpy as np\n",
    "import pandas as pd\n",
    "import random, os, datetime, math\n",
    "from collections import defaultdict\n",
    "\n",
    "total_reward = 0\n",
    "bandit_dict = {}\n",
    "\n",
    "def set_seed(my_seed=42):\n",
    "    os.environ['PYTHONHASHSEED'] = str(my_seed)\n",
    "    random.seed(my_seed)\n",
    "    np.random.seed(my_seed)\n",
    "\n",
    "#- bandit_dict[bnd]['loss']\n",
    "def get_next_bandit():\n",
    "    best_bandit = 0\n",
    "    best_bandit_expected = 0\n",
    "    for bnd in bandit_dict:\n",
    "        expect = 0.01*random.random()+(bandit_dict[bnd]['win']- bandit_dict[bnd]['loss'] + bandit_dict[bnd]['opp'] - (bandit_dict[bnd]['opp']>0)*1.5 + bandit_dict[bnd]['op_continue']) \\\n",
    "                 / (bandit_dict[bnd]['win'] + bandit_dict[bnd]['loss'] + bandit_dict[bnd]['opp']) \\\n",
    "                * math.pow(0.965, bandit_dict[bnd]['win'] + bandit_dict[bnd]['loss'] + bandit_dict[bnd]['opp'])\n",
    "        if expect > best_bandit_expected:\n",
    "            best_bandit_expected = expect\n",
    "            best_bandit = bnd\n",
    "    return best_bandit\n",
    "\n",
    "my_action_list = []\n",
    "op_action_list = []\n",
    "\n",
    "op_continue_cnt_dict = defaultdict(int)\n",
    "\n",
    "def multi_armed_probabilities(observation, configuration):\n",
    "    global total_reward, bandit_dict\n",
    "\n",
    "    my_pull = random.randrange(configuration['banditCount'])\n",
    "    if 0 == observation['step']:\n",
    "        set_seed()\n",
    "        total_reward = 0\n",
    "        bandit_dict = {}\n",
    "        for i in range(configuration['banditCount']):\n",
    "            bandit_dict[i] = {'win': 1, 'loss': 0, 'opp': 0, 'my_continue': 0, 'op_continue': 0}\n",
    "    else:\n",
    "        last_reward = observation['reward'] - total_reward\n",
    "        total_reward = observation['reward']\n",
    "        \n",
    "        my_idx = observation['agentIndex']\n",
    "        my_last_action = observation['lastActions'][my_idx]\n",
    "        op_last_action = observation['lastActions'][1-my_idx]\n",
    "        \n",
    "        my_action_list.append(my_last_action)\n",
    "        op_action_list.append(op_last_action)\n",
    "        \n",
    "        if 0 < last_reward:\n",
    "            bandit_dict[my_last_action]['win'] = bandit_dict[my_last_action]['win'] +1\n",
    "        else:\n",
    "            bandit_dict[my_last_action]['loss'] = bandit_dict[my_last_action]['loss'] +1\n",
    "            bandit_dict[op_last_action]['opp'] = bandit_dict[op_last_action]['opp'] +1\n",
    "        \n",
    "        if observation['step'] >= 3:\n",
    "            if my_action_list[-1] == my_action_list[-2]:\n",
    "                bandit_dict[my_last_action]['my_continue'] += 1\n",
    "            else:\n",
    "                bandit_dict[my_last_action]['my_continue'] = 0\n",
    "            if op_action_list[-1] == op_action_list[-2]:\n",
    "                bandit_dict[op_last_action]['op_continue'] += 1\n",
    "            else:\n",
    "                bandit_dict[op_last_action]['op_continue'] = 0\n",
    "        \n",
    "        if last_reward > 0:\n",
    "            my_pull = my_last_action\n",
    "        else:\n",
    "            if observation['step'] >= 4:\n",
    "                if (my_action_list[-1] == my_action_list[-2]) and (my_action_list[-1] == my_action_list[-3]):\n",
    "                    if random.random() < 0.5:#前の3つが同じだったら、n%の確率で同じ自動販売機に固執し続ける。\n",
    "                        my_pull = my_action_list[-1]\n",
    "                    else:\n",
    "                        my_pull = get_next_bandit()\n",
    "                else:\n",
    "                    my_pull = get_next_bandit()\n",
    "            else:\n",
    "                my_pull = get_next_bandit()\n",
    "    \n",
    "    return my_pull"
   ]
  },
  {
   "cell_type": "code",
   "execution_count": 5,
   "metadata": {
    "execution": {
     "iopub.execute_input": "2021-01-22T16:05:47.921276Z",
     "iopub.status.busy": "2021-01-22T16:05:47.920572Z",
     "iopub.status.idle": "2021-01-22T16:05:48.140720Z",
     "shell.execute_reply": "2021-01-22T16:05:48.140003Z"
    },
    "papermill": {
     "duration": 0.230734,
     "end_time": "2021-01-22T16:05:48.140855",
     "exception": false,
     "start_time": "2021-01-22T16:05:47.910121",
     "status": "completed"
    },
    "tags": []
   },
   "outputs": [
    {
     "name": "stdout",
     "output_type": "stream",
     "text": [
      "Loading environment football failed: No module named 'gfootball'\n"
     ]
    },
    {
     "ename": "InvalidArgument",
     "evalue": "Unknown Environment Specification",
     "output_type": "error",
     "traceback": [
      "\u001b[0;31m---------------------------------------------------------------------------\u001b[0m",
      "\u001b[0;31mInvalidArgument\u001b[0m                           Traceback (most recent call last)",
      "\u001b[0;32m<ipython-input-5-2466a014d3e6>\u001b[0m in \u001b[0;36m<module>\u001b[0;34m\u001b[0m\n\u001b[1;32m      1\u001b[0m \u001b[0;32mfrom\u001b[0m \u001b[0mkaggle_environments\u001b[0m \u001b[0;32mimport\u001b[0m \u001b[0mmake\u001b[0m\u001b[0;34m\u001b[0m\u001b[0;34m\u001b[0m\u001b[0m\n\u001b[1;32m      2\u001b[0m \u001b[0;34m\u001b[0m\u001b[0m\n\u001b[0;32m----> 3\u001b[0;31m \u001b[0menv\u001b[0m \u001b[0;34m=\u001b[0m \u001b[0mmake\u001b[0m\u001b[0;34m(\u001b[0m\u001b[0;34m\"mab\"\u001b[0m\u001b[0;34m,\u001b[0m \u001b[0mdebug\u001b[0m\u001b[0;34m=\u001b[0m\u001b[0;32mTrue\u001b[0m\u001b[0;34m)\u001b[0m\u001b[0;34m\u001b[0m\u001b[0;34m\u001b[0m\u001b[0m\n\u001b[0m",
      "\u001b[0;32m/opt/conda/lib/python3.7/site-packages/kaggle_environments/core.py\u001b[0m in \u001b[0;36mmake\u001b[0;34m(environment, configuration, info, steps, logs, debug, state)\u001b[0m\n\u001b[1;32m     86\u001b[0m     \u001b[0;32melif\u001b[0m \u001b[0mhas\u001b[0m\u001b[0;34m(\u001b[0m\u001b[0menvironment\u001b[0m\u001b[0;34m,\u001b[0m \u001b[0mpath\u001b[0m\u001b[0;34m=\u001b[0m\u001b[0;34m[\u001b[0m\u001b[0;34m\"interpreter\"\u001b[0m\u001b[0;34m]\u001b[0m\u001b[0;34m,\u001b[0m \u001b[0mis_callable\u001b[0m\u001b[0;34m=\u001b[0m\u001b[0;32mTrue\u001b[0m\u001b[0;34m)\u001b[0m\u001b[0;34m:\u001b[0m\u001b[0;34m\u001b[0m\u001b[0;34m\u001b[0m\u001b[0m\n\u001b[1;32m     87\u001b[0m         \u001b[0;32mreturn\u001b[0m \u001b[0mEnvironment\u001b[0m\u001b[0;34m(\u001b[0m\u001b[0;34m**\u001b[0m\u001b[0menvironment\u001b[0m\u001b[0;34m,\u001b[0m \u001b[0mconfiguration\u001b[0m\u001b[0;34m=\u001b[0m\u001b[0mconfiguration\u001b[0m\u001b[0;34m,\u001b[0m \u001b[0minfo\u001b[0m\u001b[0;34m=\u001b[0m\u001b[0minfo\u001b[0m\u001b[0;34m,\u001b[0m \u001b[0msteps\u001b[0m\u001b[0;34m=\u001b[0m\u001b[0msteps\u001b[0m\u001b[0;34m,\u001b[0m \u001b[0mlogs\u001b[0m\u001b[0;34m=\u001b[0m\u001b[0mlogs\u001b[0m\u001b[0;34m,\u001b[0m \u001b[0mdebug\u001b[0m\u001b[0;34m=\u001b[0m\u001b[0mdebug\u001b[0m\u001b[0;34m,\u001b[0m \u001b[0mstate\u001b[0m\u001b[0;34m=\u001b[0m\u001b[0mstate\u001b[0m\u001b[0;34m)\u001b[0m\u001b[0;34m\u001b[0m\u001b[0;34m\u001b[0m\u001b[0m\n\u001b[0;32m---> 88\u001b[0;31m     \u001b[0;32mraise\u001b[0m \u001b[0mInvalidArgument\u001b[0m\u001b[0;34m(\u001b[0m\u001b[0;34m\"Unknown Environment Specification\"\u001b[0m\u001b[0;34m)\u001b[0m\u001b[0;34m\u001b[0m\u001b[0;34m\u001b[0m\u001b[0m\n\u001b[0m\u001b[1;32m     89\u001b[0m \u001b[0;34m\u001b[0m\u001b[0m\n\u001b[1;32m     90\u001b[0m \u001b[0;34m\u001b[0m\u001b[0m\n",
      "\u001b[0;31mInvalidArgument\u001b[0m: Unknown Environment Specification"
     ]
    }
   ],
   "source": [
    "from kaggle_environments import make\n",
    "\n",
    "env = make(\"mab\", debug=True)"
   ]
  },
  {
   "cell_type": "code",
   "execution_count": 6,
   "metadata": {
    "execution": {
     "iopub.execute_input": "2021-01-22T16:05:48.164514Z",
     "iopub.status.busy": "2021-01-22T16:05:48.163701Z",
     "iopub.status.idle": "2021-01-22T16:05:48.168031Z",
     "shell.execute_reply": "2021-01-22T16:05:48.167495Z"
    },
    "papermill": {
     "duration": 0.018587,
     "end_time": "2021-01-22T16:05:48.168172",
     "exception": false,
     "start_time": "2021-01-22T16:05:48.149585",
     "status": "completed"
    },
    "tags": []
   },
   "outputs": [
    {
     "data": {
      "text/plain": [
       "'\\nimport datetime\\n\\nenv.reset()\\nstart_time = datetime.datetime.now()\\nenv.run([\"submission.py\", \"opponent_agent.py\"])\\nstop_time = datetime.datetime.now()\\nprint(\\'Completed sub vs random:\\', stop_time-start_time)\\nenv.render(mode=\"ipython\", width=800, height=250)\\n'"
      ]
     },
     "execution_count": 6,
     "metadata": {},
     "output_type": "execute_result"
    }
   ],
   "source": [
    "'''\n",
    "import datetime\n",
    "\n",
    "env.reset()\n",
    "start_time = datetime.datetime.now()\n",
    "env.run([\"submission.py\", \"opponent_agent.py\"])\n",
    "stop_time = datetime.datetime.now()\n",
    "print('Completed sub vs random:', stop_time-start_time)\n",
    "env.render(mode=\"ipython\", width=800, height=250)\n",
    "'''"
   ]
  },
  {
   "cell_type": "code",
   "execution_count": null,
   "metadata": {
    "papermill": {
     "duration": 0.009629,
     "end_time": "2021-01-22T16:05:48.187376",
     "exception": false,
     "start_time": "2021-01-22T16:05:48.177747",
     "status": "completed"
    },
    "tags": []
   },
   "outputs": [],
   "source": []
  }
 ],
 "metadata": {
  "kernelspec": {
   "display_name": "Python 3",
   "language": "python",
   "name": "python3"
  },
  "language_info": {
   "codemirror_mode": {
    "name": "ipython",
    "version": 3
   },
   "file_extension": ".py",
   "mimetype": "text/x-python",
   "name": "python",
   "nbconvert_exporter": "python",
   "pygments_lexer": "ipython3",
   "version": "3.7.6"
  },
  "papermill": {
   "duration": 5.763974,
   "end_time": "2021-01-22T16:05:48.305576",
   "environment_variables": {},
   "exception": null,
   "input_path": "__notebook__.ipynb",
   "output_path": "__notebook__.ipynb",
   "parameters": {},
   "start_time": "2021-01-22T16:05:42.541602",
   "version": "2.1.0"
  }
 },
 "nbformat": 4,
 "nbformat_minor": 4
}
